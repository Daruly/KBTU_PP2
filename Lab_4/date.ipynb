{
 "cells": [
  {
   "cell_type": "code",
   "execution_count": 4,
   "metadata": {},
   "outputs": [],
   "source": [
    "from datetime import datetime, timedelta"
   ]
  },
  {
   "cell_type": "code",
   "execution_count": 6,
   "metadata": {},
   "outputs": [
    {
     "name": "stdout",
     "output_type": "stream",
     "text": [
      "2025-02-07\n"
     ]
    }
   ],
   "source": [
    "# 1. Write a Python program to subtract five days from current date.\n",
    "\n",
    "\n",
    "\n",
    "def subtract_days() -> datetime:\n",
    "    return datetime.now().date() - timedelta(days = 5)\n",
    "\n",
    "print(subtract_days())"
   ]
  },
  {
   "cell_type": "code",
   "execution_count": 11,
   "metadata": {},
   "outputs": [
    {
     "name": "stdout",
     "output_type": "stream",
     "text": [
      "2025-02-11 2025-02-12 2025-02-13\n"
     ]
    }
   ],
   "source": [
    "# 2. Write a Python program to print yesterday, today, tomorrow.\n",
    "\n",
    "\n",
    "def yer_tod_tom() -> list():\n",
    "    today, delta = datetime.now().date(), timedelta(days = 1)\n",
    "    return today - delta, today, today + delta\n",
    "\n",
    "dates = yer_tod_tom()\n",
    "print(*dates)"
   ]
  },
  {
   "cell_type": "code",
   "execution_count": 25,
   "metadata": {},
   "outputs": [
    {
     "name": "stdout",
     "output_type": "stream",
     "text": [
      "2025-02-12 16:25:02\n"
     ]
    }
   ],
   "source": [
    "# 3. Write a Python program to drop microseconds from datetime.\n",
    "\n",
    "\n",
    "def drop_ms() -> datetime:\n",
    "    return datetime.now().replace(microsecond = 0)\n",
    "\n",
    "print(drop_ms())"
   ]
  },
  {
   "cell_type": "code",
   "execution_count": 29,
   "metadata": {},
   "outputs": [
    {
     "name": "stdout",
     "output_type": "stream",
     "text": [
      "86400.0\n"
     ]
    }
   ],
   "source": [
    "# 4. Write a Python program to calculate two date difference in seconds.\n",
    "\n",
    "\n",
    "def date_diff(date_a: datetime, date_b: datetime) -> float:\n",
    "    return abs((date_a - date_b).total_seconds())\n",
    "\n",
    "some_dates = datetime(2024, 1, 1, 0, 0, 0), datetime(2024, 1, 2, 0, 0, 0)\n",
    "\n",
    "print(f\"{date_diff(*some_dates)}\")"
   ]
  }
 ],
 "metadata": {
  "kernelspec": {
   "display_name": "Python 3",
   "language": "python",
   "name": "python3"
  },
  "language_info": {
   "codemirror_mode": {
    "name": "ipython",
    "version": 3
   },
   "file_extension": ".py",
   "mimetype": "text/x-python",
   "name": "python",
   "nbconvert_exporter": "python",
   "pygments_lexer": "ipython3",
   "version": "3.13.2"
  }
 },
 "nbformat": 4,
 "nbformat_minor": 2
}
