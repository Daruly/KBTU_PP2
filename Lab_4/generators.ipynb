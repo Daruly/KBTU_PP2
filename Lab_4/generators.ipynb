{
 "cells": [
  {
   "cell_type": "code",
   "execution_count": 1,
   "metadata": {},
   "outputs": [
    {
     "name": "stdout",
     "output_type": "stream",
     "text": [
      "[1, 4, 9, 16, 25]\n"
     ]
    }
   ],
   "source": [
    "# 1.Create a generator that generates the squares of numbers up to some number N.\n",
    "\n",
    "\n",
    "def squares(n: int) -> list:\n",
    "    return [ n * n for n in range(1, n + 1) ]\n",
    "\n",
    "print(squares(5))"
   ]
  },
  {
   "cell_type": "code",
   "execution_count": 6,
   "metadata": {},
   "outputs": [
    {
     "name": "stdout",
     "output_type": "stream",
     "text": [
      "0, 2, 4, 6, 8, 10, 12\n"
     ]
    }
   ],
   "source": [
    "# 2. Write a program using generator to print the even numbers between 0 and n in comma separated form where n is input from console.\n",
    "\n",
    "\n",
    "def even_nums(n: int) -> list:\n",
    "    return [ f\"{n}\" for n in range(n + 1) if n % 2 == 0 ]\n",
    "\n",
    "x = input()\n",
    "\n",
    "print(f\"{\", \".join(even_nums(int(x)))}\")"
   ]
  },
  {
   "cell_type": "code",
   "execution_count": 8,
   "metadata": {},
   "outputs": [
    {
     "name": "stdout",
     "output_type": "stream",
     "text": [
      "[0, 12, 24, 36]\n"
     ]
    }
   ],
   "source": [
    "# 3. Define a function with a generator which can iterate the numbers, which are divisible by 3 and 4, between a given range 0 and n.\n",
    "\n",
    "\n",
    "def divisible_numbers(n: int) -> list:\n",
    "    return [ n for n in range(0, n + 1) if n % 12 == 0 ]\n",
    "\n",
    "\n",
    "n = int(input())\n",
    "print(divisible_numbers(n))"
   ]
  },
  {
   "cell_type": "code",
   "execution_count": 11,
   "metadata": {},
   "outputs": [
    {
     "name": "stdout",
     "output_type": "stream",
     "text": [
      "[9, 16, 25, 36, 49, 64, 81, 100, 121]\n"
     ]
    }
   ],
   "source": [
    "# 4. Implement a generator called squares to yield the square of all numbers from (a) to (b). Test it with a \"for\" loop and print each of the yielded values.\n",
    "\n",
    "\n",
    "def squares(a: int, b: int) -> list:\n",
    "    return [ n * n for n in range(a, b + 1) ]\n",
    "\n",
    "\n",
    "n = int(input())\n",
    "m = int(input())\n",
    "\n",
    "print(squares(n, m))"
   ]
  },
  {
   "cell_type": "code",
   "execution_count": 12,
   "metadata": {},
   "outputs": [
    {
     "name": "stdout",
     "output_type": "stream",
     "text": [
      "[12, 11, 10, 9, 8, 7, 6, 5, 4, 3, 2, 1, 0]\n"
     ]
    }
   ],
   "source": [
    "# 5.Implement a generator that returns all numbers from (n) down to 0.\n",
    "\n",
    "\n",
    "def numbers_desc(n: int) -> list:\n",
    "    return [ n for n in range(0, n + 1) ][ ::-1 ]\n",
    "\n",
    "n = int(input())\n",
    "print(numbers_desc(n))"
   ]
  }
 ],
 "metadata": {
  "kernelspec": {
   "display_name": "Python 3",
   "language": "python",
   "name": "python3"
  },
  "language_info": {
   "codemirror_mode": {
    "name": "ipython",
    "version": 3
   },
   "file_extension": ".py",
   "mimetype": "text/x-python",
   "name": "python",
   "nbconvert_exporter": "python",
   "pygments_lexer": "ipython3",
   "version": "3.13.2"
  }
 },
 "nbformat": 4,
 "nbformat_minor": 2
}
