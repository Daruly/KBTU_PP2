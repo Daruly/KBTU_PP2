{
 "cells": [
  {
   "cell_type": "code",
   "execution_count": 7,
   "metadata": {},
   "outputs": [],
   "source": [
    "import math"
   ]
  },
  {
   "cell_type": "code",
   "execution_count": 8,
   "metadata": {},
   "outputs": [
    {
     "name": "stdout",
     "output_type": "stream",
     "text": [
      "0.262\n"
     ]
    }
   ],
   "source": [
    "#1 Write a Python program to convert degree to radian.\n",
    "\n",
    "\n",
    "input = 15\n",
    "def deg_to_rad(deg: float) -> float:\n",
    "    return math.radians(deg)\n",
    "\n",
    "print(f\"{deg_to_rad(input):.3f}\")"
   ]
  },
  {
   "cell_type": "code",
   "execution_count": 9,
   "metadata": {},
   "outputs": [
    {
     "name": "stdout",
     "output_type": "stream",
     "text": [
      "27.5\n"
     ]
    }
   ],
   "source": [
    "#2 Write a Python program to calculate the area of a trapezoid.\n",
    "\n",
    "input = []\n",
    "input = 5, 5, 6\n",
    "def area_trapezoid(height: float, base1: float, base2: float) -> float:\n",
    "    return (base1 + base2) * height / 2\n",
    "\n",
    "print(area_trapezoid(*input))"
   ]
  },
  {
   "cell_type": "code",
   "execution_count": 10,
   "metadata": {},
   "outputs": [
    {
     "name": "stdout",
     "output_type": "stream",
     "text": [
      "625\n"
     ]
    }
   ],
   "source": [
    "#3 Write a Python program to calculate the area of regular polygon.\n",
    "\n",
    "input = []\n",
    "input = 4, 25\n",
    "def area_polygon(sides: int, length: float) -> float:\n",
    "    return (sides * length**2) / (4 * math.tan(math.pi / sides))\n",
    "\n",
    "print(round(area_polygon(*input)))"
   ]
  },
  {
   "cell_type": "code",
   "execution_count": 11,
   "metadata": {},
   "outputs": [
    {
     "name": "stdout",
     "output_type": "stream",
     "text": [
      "30\n"
     ]
    }
   ],
   "source": [
    "#4 Write a Python program to calculate the area of a parallelogram.\n",
    "\n",
    "input = []\n",
    "input = 5, 6\n",
    "def area_parallelogram(length: float, height: float) -> float:\n",
    "    return length * height\n",
    "\n",
    "print(area_parallelogram(*input))"
   ]
  }
 ],
 "metadata": {
  "kernelspec": {
   "display_name": "Python 3",
   "language": "python",
   "name": "python3"
  },
  "language_info": {
   "codemirror_mode": {
    "name": "ipython",
    "version": 3
   },
   "file_extension": ".py",
   "mimetype": "text/x-python",
   "name": "python",
   "nbconvert_exporter": "python",
   "pygments_lexer": "ipython3",
   "version": "3.13.2"
  }
 },
 "nbformat": 4,
 "nbformat_minor": 2
}
