{
 "cells": [
  {
   "cell_type": "code",
   "execution_count": 6,
   "metadata": {},
   "outputs": [],
   "source": [
    "import json"
   ]
  },
  {
   "cell_type": "code",
   "execution_count": 7,
   "metadata": {},
   "outputs": [
    {
     "name": "stdout",
     "output_type": "stream",
     "text": [
      "Interface Status\n",
      "=====================================================================================\n",
      "DN                                              Description            Speed    MTU  \n",
      "----------------------------------------------- --------------------  -------  ------\n",
      "topology/pod-1/node-201/sys/phys-[eth1/33]                            inherit   9150\n",
      "topology/pod-1/node-201/sys/phys-[eth1/34]                            inherit   9150\n",
      "topology/pod-1/node-201/sys/phys-[eth1/35]                            inherit   9150\n",
      "topology/pod-1/node-201/sys/phys-[eth1/36]                            inherit   9150\n",
      "topology/pod-1/node-201/sys/phys-[eth1/1]                            inherit   9150\n",
      "topology/pod-1/node-201/sys/phys-[eth1/2]                            inherit   9150\n",
      "topology/pod-1/node-201/sys/phys-[eth1/3]                            inherit   9150\n",
      "topology/pod-1/node-201/sys/phys-[eth1/4]                            inherit   9150\n",
      "topology/pod-1/node-201/sys/phys-[eth1/5]                            inherit   9150\n",
      "topology/pod-1/node-201/sys/phys-[eth1/6]                            inherit   9150\n",
      "topology/pod-1/node-201/sys/phys-[eth1/7]                            inherit   9150\n",
      "topology/pod-1/node-201/sys/phys-[eth1/8]                            inherit   9150\n",
      "topology/pod-1/node-201/sys/phys-[eth1/9]                            inherit   9150\n",
      "topology/pod-1/node-201/sys/phys-[eth1/10]                            inherit   9150\n",
      "topology/pod-1/node-201/sys/phys-[eth1/11]                            inherit   9150\n",
      "topology/pod-1/node-201/sys/phys-[eth1/12]                            inherit   9150\n",
      "topology/pod-1/node-201/sys/phys-[eth1/13]                            inherit   9150\n",
      "topology/pod-1/node-201/sys/phys-[eth1/14]                            inherit   9150\n"
     ]
    }
   ],
   "source": [
    "def parse_json(path: str) -> None:\n",
    "    print(    \n",
    "'''Interface Status\n",
    "=====================================================================================\n",
    "DN                                              Description            Speed    MTU  \n",
    "----------------------------------------------- --------------------  -------  ------'''\n",
    "    )\n",
    "    \n",
    "    with open(path, \"r\") as file:\n",
    "        data = json.load(file)\n",
    "        \n",
    "    for item in data[\"imdata\"]:\n",
    "        attr = item[\"l1PhysIf\"][\"attributes\"]\n",
    "        print(f\"{attr[\"dn\"]}                   {attr[\"descr\"]}         {attr[\"speed\"]}   {attr[\"mtu\"]}\")\n",
    "\n",
    "\n",
    "parse_json(\"./sample-data.json\")"
   ]
  },
  {
   "cell_type": "code",
   "execution_count": null,
   "metadata": {},
   "outputs": [],
   "source": []
  }
 ],
 "metadata": {
  "kernelspec": {
   "display_name": "Python 3",
   "language": "python",
   "name": "python3"
  },
  "language_info": {
   "codemirror_mode": {
    "name": "ipython",
    "version": 3
   },
   "file_extension": ".py",
   "mimetype": "text/x-python",
   "name": "python",
   "nbconvert_exporter": "python",
   "pygments_lexer": "ipython3",
   "version": "3.13.2"
  }
 },
 "nbformat": 4,
 "nbformat_minor": 2
}
