{
 "cells": [
  {
   "cell_type": "code",
   "execution_count": 52,
   "metadata": {},
   "outputs": [],
   "source": [
    "import re\n",
    "\n",
    "with open(\"./row.txt\", \"r\", encoding = \"utf-8\") as file:\n",
    "    txt = file.read()"
   ]
  },
  {
   "cell_type": "markdown",
   "metadata": {},
   "source": [
    "#### 1."
   ]
  },
  {
   "cell_type": "code",
   "execution_count": 66,
   "metadata": {},
   "outputs": [
    {
     "name": "stdout",
     "output_type": "stream",
     "text": [
      "a\n"
     ]
    }
   ],
   "source": [
    "def match_a_b(string: str):\n",
    "    return re.search(r\"ab*\", string)\n",
    "\n",
    "print(match_a_b(txt).group())"
   ]
  },
  {
   "cell_type": "markdown",
   "metadata": {},
   "source": [
    "#### 2. "
   ]
  },
  {
   "cell_type": "code",
   "execution_count": 54,
   "metadata": {},
   "outputs": [
    {
     "name": "stdout",
     "output_type": "stream",
     "text": [
      "abb\n"
     ]
    }
   ],
   "source": [
    "def match_a_bbb(string: str):\n",
    "    return re.search(r\"ab{2,3}\", string)\n",
    "\n",
    "print(match_a_bbb(txt).group())\n"
   ]
  },
  {
   "cell_type": "markdown",
   "metadata": {},
   "source": [
    "#### 3.\n"
   ]
  },
  {
   "cell_type": "code",
   "execution_count": 55,
   "metadata": {},
   "outputs": [
    {
     "data": {
      "text/plain": [
       "['pply_bright',\n",
       " 'he_ultimate',\n",
       " 'guide_to',\n",
       " 'regular_expressions',\n",
       " 'should_replace']"
      ]
     },
     "execution_count": 55,
     "metadata": {},
     "output_type": "execute_result"
    }
   ],
   "source": [
    "def find_lowercase_underscore(string: str):\n",
    "    return re.findall(r\"[a-z]+_[a-z]+\", string)\n",
    "\n",
    "find_lowercase_underscore(txt)"
   ]
  },
  {
   "cell_type": "markdown",
   "metadata": {},
   "source": [
    "### 4."
   ]
  },
  {
   "cell_type": "code",
   "execution_count": 56,
   "metadata": {},
   "outputs": [
    {
     "data": {
      "text/plain": [
       "['Aardvark',\n",
       " 'It',\n",
       " 'Suddenly',\n",
       " 'Apply',\n",
       " 'Inside',\n",
       " 'Art',\n",
       " 'History',\n",
       " 'Python',\n",
       " 'Programming',\n",
       " 'He',\n",
       " 'Camel',\n",
       " 'Case',\n",
       " 'To',\n",
       " 'Snake',\n",
       " 'Case',\n",
       " 'The',\n",
       " 'The',\n",
       " 'After',\n",
       " 'He',\n",
       " 'Into',\n",
       " 'Reality']"
      ]
     },
     "execution_count": 56,
     "metadata": {},
     "output_type": "execute_result"
    }
   ],
   "source": [
    "def find_uppercase_lowercase(string: str):\n",
    "    return re.findall(r\"[A-Z][a-z]+\", string)\n",
    "\n",
    "find_uppercase_lowercase(txt)"
   ]
  },
  {
   "cell_type": "markdown",
   "metadata": {},
   "source": [
    "### 5."
   ]
  },
  {
   "cell_type": "code",
   "execution_count": 57,
   "metadata": {},
   "outputs": [],
   "source": [
    "def match_a_any_b(string: str):\n",
    "    return re.match(r\"a.*b\", string)\n",
    "\n",
    "match_a_any_b(txt)"
   ]
  },
  {
   "cell_type": "markdown",
   "metadata": {},
   "source": [
    "### 6\n"
   ]
  },
  {
   "cell_type": "code",
   "execution_count": 58,
   "metadata": {},
   "outputs": [
    {
     "name": "stdout",
     "output_type": "stream",
     "text": [
      "Aardvark:approached:the:abbey::It:was:a:calm:morning::and:he:carried:a:small:bag::\n",
      "Suddenly::he:noticed:a:sign:that:said::'Apply_bright_colors':near:an:old:bookstore::\n",
      "Inside::there:were:books:on:ArtHistory:and:PythonProgramming::\n",
      "He:picked:up:one:titled:'CamelCaseToSnakeCase':and:started:reading::\n",
      "The:cover:read::'The_ultimate_guide_to_regular_expressions':\n",
      "\n",
      "After:some:time::he:whispered:to:himself::'I:should_replace:spaces:commas:and:dots:with:colons:it's:more:structured:':\n",
      "He:left:the:store::ready:to:turn:his:ideasIntoReality:\n"
     ]
    }
   ],
   "source": [
    "def replace_with_colon(string: str):\n",
    "    return re.sub(r\"[ ,.]\", \":\", string)\n",
    "\n",
    "print(replace_with_colon(txt))"
   ]
  },
  {
   "cell_type": "markdown",
   "metadata": {},
   "source": [
    "### 7. "
   ]
  },
  {
   "cell_type": "code",
   "execution_count": 69,
   "metadata": {},
   "outputs": [
    {
     "ename": "IndexError",
     "evalue": "no such group",
     "output_type": "error",
     "traceback": [
      "\u001b[1;31m---------------------------------------------------------------------------\u001b[0m",
      "\u001b[1;31mIndexError\u001b[0m                                Traceback (most recent call last)",
      "Cell \u001b[1;32mIn[69], line 3\u001b[0m\n\u001b[0;32m      1\u001b[0m \u001b[38;5;28;01mdef\u001b[39;00m\u001b[38;5;250m \u001b[39m\u001b[38;5;21msnake_to_camel\u001b[39m(string: \u001b[38;5;28mstr\u001b[39m):\n\u001b[0;32m      2\u001b[0m     \u001b[38;5;28;01mreturn\u001b[39;00m re\u001b[38;5;241m.\u001b[39msub(\u001b[38;5;124mr\u001b[39m\u001b[38;5;124m'\u001b[39m\u001b[38;5;124m_[a-zA-Z]\u001b[39m\u001b[38;5;124m'\u001b[39m, \u001b[38;5;28;01mlambda\u001b[39;00m match: match\u001b[38;5;241m.\u001b[39mgroup(\u001b[38;5;241m1\u001b[39m)\u001b[38;5;241m.\u001b[39mupper(), string)\n\u001b[1;32m----> 3\u001b[0m \u001b[38;5;28mprint\u001b[39m(\u001b[43msnake_to_camel\u001b[49m\u001b[43m(\u001b[49m\u001b[43mtxt\u001b[49m\u001b[43m)\u001b[49m)\n",
      "Cell \u001b[1;32mIn[69], line 2\u001b[0m, in \u001b[0;36msnake_to_camel\u001b[1;34m(string)\u001b[0m\n\u001b[0;32m      1\u001b[0m \u001b[38;5;28;01mdef\u001b[39;00m\u001b[38;5;250m \u001b[39m\u001b[38;5;21msnake_to_camel\u001b[39m(string: \u001b[38;5;28mstr\u001b[39m):\n\u001b[1;32m----> 2\u001b[0m     \u001b[38;5;28;01mreturn\u001b[39;00m \u001b[43mre\u001b[49m\u001b[38;5;241;43m.\u001b[39;49m\u001b[43msub\u001b[49m\u001b[43m(\u001b[49m\u001b[38;5;124;43mr\u001b[39;49m\u001b[38;5;124;43m'\u001b[39;49m\u001b[38;5;124;43m_[a-zA-Z]\u001b[39;49m\u001b[38;5;124;43m'\u001b[39;49m\u001b[43m,\u001b[49m\u001b[43m \u001b[49m\u001b[38;5;28;43;01mlambda\u001b[39;49;00m\u001b[43m \u001b[49m\u001b[43mmatch\u001b[49m\u001b[43m:\u001b[49m\u001b[43m \u001b[49m\u001b[43mmatch\u001b[49m\u001b[38;5;241;43m.\u001b[39;49m\u001b[43mgroup\u001b[49m\u001b[43m(\u001b[49m\u001b[38;5;241;43m1\u001b[39;49m\u001b[43m)\u001b[49m\u001b[38;5;241;43m.\u001b[39;49m\u001b[43mupper\u001b[49m\u001b[43m(\u001b[49m\u001b[43m)\u001b[49m\u001b[43m,\u001b[49m\u001b[43m \u001b[49m\u001b[43mstring\u001b[49m\u001b[43m)\u001b[49m\n",
      "File \u001b[1;32mc:\\Users\\alai0125\\AppData\\Local\\Programs\\Python\\Python313\\Lib\\re\\__init__.py:208\u001b[0m, in \u001b[0;36msub\u001b[1;34m(pattern, repl, string, count, flags, *args)\u001b[0m\n\u001b[0;32m    202\u001b[0m     \u001b[38;5;28;01mimport\u001b[39;00m\u001b[38;5;250m \u001b[39m\u001b[38;5;21;01mwarnings\u001b[39;00m\n\u001b[0;32m    203\u001b[0m     warnings\u001b[38;5;241m.\u001b[39mwarn(\n\u001b[0;32m    204\u001b[0m         \u001b[38;5;124m\"\u001b[39m\u001b[38;5;124m'\u001b[39m\u001b[38;5;124mcount\u001b[39m\u001b[38;5;124m'\u001b[39m\u001b[38;5;124m is passed as positional argument\u001b[39m\u001b[38;5;124m\"\u001b[39m,\n\u001b[0;32m    205\u001b[0m         \u001b[38;5;167;01mDeprecationWarning\u001b[39;00m, stacklevel\u001b[38;5;241m=\u001b[39m\u001b[38;5;241m2\u001b[39m\n\u001b[0;32m    206\u001b[0m     )\n\u001b[1;32m--> 208\u001b[0m \u001b[38;5;28;01mreturn\u001b[39;00m \u001b[43m_compile\u001b[49m\u001b[43m(\u001b[49m\u001b[43mpattern\u001b[49m\u001b[43m,\u001b[49m\u001b[43m \u001b[49m\u001b[43mflags\u001b[49m\u001b[43m)\u001b[49m\u001b[38;5;241;43m.\u001b[39;49m\u001b[43msub\u001b[49m\u001b[43m(\u001b[49m\u001b[43mrepl\u001b[49m\u001b[43m,\u001b[49m\u001b[43m \u001b[49m\u001b[43mstring\u001b[49m\u001b[43m,\u001b[49m\u001b[43m \u001b[49m\u001b[43mcount\u001b[49m\u001b[43m)\u001b[49m\n",
      "Cell \u001b[1;32mIn[69], line 2\u001b[0m, in \u001b[0;36msnake_to_camel.<locals>.<lambda>\u001b[1;34m(match)\u001b[0m\n\u001b[0;32m      1\u001b[0m \u001b[38;5;28;01mdef\u001b[39;00m\u001b[38;5;250m \u001b[39m\u001b[38;5;21msnake_to_camel\u001b[39m(string: \u001b[38;5;28mstr\u001b[39m):\n\u001b[1;32m----> 2\u001b[0m     \u001b[38;5;28;01mreturn\u001b[39;00m re\u001b[38;5;241m.\u001b[39msub(\u001b[38;5;124mr\u001b[39m\u001b[38;5;124m'\u001b[39m\u001b[38;5;124m_[a-zA-Z]\u001b[39m\u001b[38;5;124m'\u001b[39m, \u001b[38;5;28;01mlambda\u001b[39;00m match: \u001b[43mmatch\u001b[49m\u001b[38;5;241;43m.\u001b[39;49m\u001b[43mgroup\u001b[49m\u001b[43m(\u001b[49m\u001b[38;5;241;43m1\u001b[39;49m\u001b[43m)\u001b[49m\u001b[38;5;241m.\u001b[39mupper(), string)\n",
      "\u001b[1;31mIndexError\u001b[0m: no such group"
     ]
    }
   ],
   "source": [
    "def snake_to_camel(string: str):\n",
    "    return re.sub(r'_[a-zA-Z]', lambda match: match.group(1).upper(), string)\n",
    "print(snake_to_camel(txt))"
   ]
  },
  {
   "cell_type": "markdown",
   "metadata": {},
   "source": [
    "### 8. [Split string at uppercase letters]()"
   ]
  },
  {
   "cell_type": "code",
   "execution_count": 70,
   "metadata": {},
   "outputs": [
    {
     "name": "stdout",
     "output_type": "stream",
     "text": [
      "Aardvark approached the abbey. \n",
      "It was a calm morning, and he carried a small bag. \n",
      "\n",
      "Suddenly, he noticed a sign that said: '\n",
      "Apply_bright_colors' near an old bookstore. \n",
      "\n",
      "Inside, there were books on \n",
      "Art\n",
      "History and \n",
      "Python\n",
      "Programming. \n",
      "\n",
      "He picked up one titled '\n",
      "Camel\n",
      "Case\n",
      "To\n",
      "Snake\n",
      "Case' and started reading. \n",
      "\n",
      "The cover read: '\n",
      "The_ultimate_guide_to_regular_expressions'.\n",
      "\n",
      "\n",
      "After some time, he whispered to himself: '\n",
      "I should_replace spaces,commas.and.dots with colons:it's more structured.' \n",
      "\n",
      "He left the store, ready to turn his ideas\n",
      "Into\n",
      "Reality.\n"
     ]
    }
   ],
   "source": [
    "def split_at_uppercase(string: str):\n",
    "    return re.findall(r\"[A-Z][^A-Z]*\", string)\n",
    "\n",
    "print(\"\\n\".join(split_at_uppercase(txt)))"
   ]
  },
  {
   "cell_type": "markdown",
   "metadata": {},
   "source": [
    "### 9. [Insert spaces before uppercase words]()"
   ]
  },
  {
   "cell_type": "code",
   "execution_count": null,
   "metadata": {},
   "outputs": [
    {
     "name": "stdout",
     "output_type": "stream",
     "text": [
      "Aardvark approached the abbey.  It was a calm morning, and he carried a small bag. \n",
      " Suddenly, he noticed a sign that said: ' Apply_bright_colors' near an old bookstore. \n",
      " Inside, there were books on  Art History and  Python Programming. \n",
      " He picked up one titled ' Camel Case To Snake Case' and started reading. \n",
      " The cover read: ' The_ultimate_guide_to_regular_expressions'.\n",
      "\n",
      " After some time, he whispered to himself: ' I should_replace spaces,commas.and.dots with colons:it's more structured.' \n",
      " He left the store, ready to turn his ideas Into Reality.\n"
     ]
    }
   ],
   "source": [
    "def insert_spaces(string: str):\n",
    "    return re.sub(r\"(?<!^)(?=[A-Z])\", \" \", string)\n",
    "\n",
    "print(insert_spaces(txt))"
   ]
  },
  {
   "cell_type": "markdown",
   "metadata": {},
   "source": [
    "### 10. [Convert CamelCase to snake_case]()"
   ]
  },
  {
   "cell_type": "code",
   "execution_count": null,
   "metadata": {},
   "outputs": [
    {
     "name": "stdout",
     "output_type": "stream",
     "text": [
      "aardvark approached the abbey. it was a calm morning, and he carried a small bag. \n",
      "suddenly, he noticed a sign that said: 'apply_bright_colors' near an old bookstore. \n",
      "inside, there were books on art_history and python_programming. \n",
      "he picked up one titled 'camel_case_to_snake_case' and started reading. \n",
      "the cover read: 'the_ultimate_guide_to_regular_expressions'.\n",
      "\n",
      "after some time, he whispered to himself: 'i should_replace spaces,commas.and.dots with colons:it's more structured.' \n",
      "he left the store, ready to turn his ideas_into_reality.\n"
     ]
    }
   ],
   "source": [
    "def camel_to_snake(string: str):\n",
    "    return re.sub(r\"([a-z])([A-Z])\", r\"\\1_\\2\", string).lower()\n",
    "\n",
    "print(camel_to_snake(txt))"
   ]
  }
 ],
 "metadata": {
  "kernelspec": {
   "display_name": "Python 3",
   "language": "python",
   "name": "python3"
  },
  "language_info": {
   "codemirror_mode": {
    "name": "ipython",
    "version": 3
   },
   "file_extension": ".py",
   "mimetype": "text/x-python",
   "name": "python",
   "nbconvert_exporter": "python",
   "pygments_lexer": "ipython3",
   "version": "3.13.2"
  }
 },
 "nbformat": 4,
 "nbformat_minor": 2
}
