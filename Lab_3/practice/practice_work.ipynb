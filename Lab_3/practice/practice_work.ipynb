{
 "cells": [
  {
   "cell_type": "code",
   "execution_count": 1,
   "metadata": {},
   "outputs": [
    {
     "name": "stdout",
     "output_type": "stream",
     "text": [
      "Hello\n"
     ]
    }
   ],
   "source": [
    "def merge(arr, l, mid, r):\n",
    "    n1 = mid - l + 1\n",
    "    n2 = r - mid\n",
    "    l = list()\n",
    "    r = list()\n",
    "\n",
    "    for i in range(0 , n1):\n",
    "        l[i] = arr[i]\n",
    "    for i in range(0, n2):\n",
    "        r[i] = arr[mid + 1 + i]\n",
    "    \n",
    "    i = 0, j = 0, k = 0\n",
    "\n",
    "    while i < n1 and j < n2:\n",
    "        if l[i] <= r[j]:\n",
    "            arr[k] = l[i]\n",
    "            i += 1\n",
    "        else:\n",
    "            arr[k] = r[j]\n",
    "            j += 1\n",
    "        k += 1\n",
    "\n",
    "\n",
    "    while i < n1:\n",
    "        arr[k] = l[i]\n",
    "        i += 1\n",
    "        k += 1\n",
    "\n",
    "\n",
    "    while j < n2:\n",
    "        arr[k] = R[j]\n",
    "        j += 1\n",
    "        k += 1\n",
    "    \n",
    "    "
   ]
  },
  {
   "cell_type": "code",
   "execution_count": null,
   "metadata": {},
   "outputs": [],
   "source": [
    "def sort(arr, l, r):\n",
    "    if l <= r:\n",
    "        mid = l + (r - l) // 2\n",
    "        sort(l, mid)\n",
    "        sort(mid + 1, r)\n",
    "        merge(arr, l, mid, r)\n",
    "    "
   ]
  },
  {
   "cell_type": "markdown",
   "metadata": {},
   "source": [
    "6 5 4 3 2 1\n",
    "0 1 2 3 4 5\n",
    "\n",
    "mid = 2"
   ]
  },
  {
   "cell_type": "code",
   "execution_count": 4,
   "metadata": {},
   "outputs": [],
   "source": [
    "def main():\n",
    "    arr = list(map(int, input().split()))\n",
    "    sz = len(arr)\n",
    "    sort(sz, arr, 0, sz - 1)\n",
    "\n",
    "\n",
    "\n",
    "if __name__ == '__name__':\n",
    "    main()"
   ]
  }
 ],
 "metadata": {
  "kernelspec": {
   "display_name": "Python 3",
   "language": "python",
   "name": "python3"
  },
  "language_info": {
   "codemirror_mode": {
    "name": "ipython",
    "version": 3
   },
   "file_extension": ".py",
   "mimetype": "text/x-python",
   "name": "python",
   "nbconvert_exporter": "python",
   "pygments_lexer": "ipython3",
   "version": "3.10.6"
  }
 },
 "nbformat": 4,
 "nbformat_minor": 2
}
